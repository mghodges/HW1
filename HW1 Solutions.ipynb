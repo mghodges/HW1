{
 "cells": [
  {
   "cell_type": "markdown",
   "metadata": {},
   "source": [
    "# Problem 1 \n",
    "N/A"
   ]
  },
  {
   "cell_type": "markdown",
   "metadata": {},
   "source": [
    "# Problem 2\n",
    "xi = time to load Canvas in milliseconds\n",
    "λ*e^-λ*x\n",
    "Derive the maximum likelihood estimate for λ from first principles\n"
   ]
  },
  {
   "cell_type": "code",
   "execution_count": null,
   "metadata": {
    "collapsed": true
   },
   "outputs": [],
   "source": [
    "# Problem 3"
   ]
  },
  {
   "cell_type": "code",
   "execution_count": 4,
   "metadata": {
    "collapsed": false
   },
   "outputs": [
    {
     "name": "stdout",
     "output_type": "stream",
     "text": [
      "(657, 11)\n"
     ]
    },
    {
     "data": {
      "text/html": [
       "<div>\n",
       "<table border=\"1\" class=\"dataframe\">\n",
       "  <thead>\n",
       "    <tr style=\"text-align: right;\">\n",
       "      <th></th>\n",
       "      <th>\"Student</th>\n",
       "      <th>\"\"Height\"\"</th>\n",
       "      <th>\"\"Gender\"\"</th>\n",
       "      <th>\"\"Shoes\"\"</th>\n",
       "      <th>\"\"Number\"\"</th>\n",
       "      <th>\"\"Dvds\"\"</th>\n",
       "      <th>\"\"ToSleep\"\"</th>\n",
       "      <th>\"\"WakeUp\"\"</th>\n",
       "      <th>\"\"Haircut\"\"</th>\n",
       "      <th>\"\"Job\"\"</th>\n",
       "      <th>\"\"Drink\"\"\"</th>\n",
       "    </tr>\n",
       "  </thead>\n",
       "  <tbody>\n",
       "    <tr>\n",
       "      <th>\"1</th>\n",
       "      <td>1</td>\n",
       "      <td>67</td>\n",
       "      <td>\"\"female\"\"</td>\n",
       "      <td>10</td>\n",
       "      <td>5</td>\n",
       "      <td>10</td>\n",
       "      <td>-2.5</td>\n",
       "      <td>5.5</td>\n",
       "      <td>60</td>\n",
       "      <td>30.0</td>\n",
       "      <td>\"\"water\"\"\"</td>\n",
       "    </tr>\n",
       "    <tr>\n",
       "      <th>\"2</th>\n",
       "      <td>2</td>\n",
       "      <td>64</td>\n",
       "      <td>\"\"female\"\"</td>\n",
       "      <td>20</td>\n",
       "      <td>7</td>\n",
       "      <td>5</td>\n",
       "      <td>1.5</td>\n",
       "      <td>8.0</td>\n",
       "      <td>0</td>\n",
       "      <td>20.0</td>\n",
       "      <td>\"\"pop\"\"\"</td>\n",
       "    </tr>\n",
       "    <tr>\n",
       "      <th>\"3</th>\n",
       "      <td>3</td>\n",
       "      <td>61</td>\n",
       "      <td>\"\"female\"\"</td>\n",
       "      <td>12</td>\n",
       "      <td>2</td>\n",
       "      <td>6</td>\n",
       "      <td>-1.5</td>\n",
       "      <td>7.5</td>\n",
       "      <td>48</td>\n",
       "      <td>0.0</td>\n",
       "      <td>\"\"milk\"\"\"</td>\n",
       "    </tr>\n",
       "    <tr>\n",
       "      <th>\"4</th>\n",
       "      <td>4</td>\n",
       "      <td>61</td>\n",
       "      <td>\"\"female\"\"</td>\n",
       "      <td>3</td>\n",
       "      <td>6</td>\n",
       "      <td>40</td>\n",
       "      <td>2.0</td>\n",
       "      <td>8.5</td>\n",
       "      <td>10</td>\n",
       "      <td>0.0</td>\n",
       "      <td>\"\"water\"\"\"</td>\n",
       "    </tr>\n",
       "    <tr>\n",
       "      <th>\"5</th>\n",
       "      <td>5</td>\n",
       "      <td>70</td>\n",
       "      <td>\"\"male\"\"</td>\n",
       "      <td>4</td>\n",
       "      <td>5</td>\n",
       "      <td>6</td>\n",
       "      <td>0.0</td>\n",
       "      <td>9.0</td>\n",
       "      <td>15</td>\n",
       "      <td>17.5</td>\n",
       "      <td>\"\"pop\"\"\"</td>\n",
       "    </tr>\n",
       "  </tbody>\n",
       "</table>\n",
       "</div>"
      ],
      "text/plain": [
       "    \"Student  \"\"Height\"\"  \"\"Gender\"\"  \"\"Shoes\"\"  \"\"Number\"\"  \"\"Dvds\"\"  \\\n",
       "\"1         1          67  \"\"female\"\"         10           5        10   \n",
       "\"2         2          64  \"\"female\"\"         20           7         5   \n",
       "\"3         3          61  \"\"female\"\"         12           2         6   \n",
       "\"4         4          61  \"\"female\"\"          3           6        40   \n",
       "\"5         5          70    \"\"male\"\"          4           5         6   \n",
       "\n",
       "    \"\"ToSleep\"\"  \"\"WakeUp\"\"  \"\"Haircut\"\"  \"\"Job\"\"  \"\"Drink\"\"\"  \n",
       "\"1         -2.5         5.5           60     30.0  \"\"water\"\"\"  \n",
       "\"2          1.5         8.0            0     20.0    \"\"pop\"\"\"  \n",
       "\"3         -1.5         7.5           48      0.0   \"\"milk\"\"\"  \n",
       "\"4          2.0         8.5           10      0.0  \"\"water\"\"\"  \n",
       "\"5          0.0         9.0           15     17.5    \"\"pop\"\"\"  "
      ]
     },
     "execution_count": 4,
     "metadata": {},
     "output_type": "execute_result"
    }
   ],
   "source": [
    "# Problem 4\n",
    "import pandas as pd\n",
    "import matplotlib.pyplot as plt\n",
    "import numpy as py\n",
    "import seaborn as sns\n",
    "%matplotlib inline\n",
    "\n",
    "student_data = pd.read_csv(\"studentdata.csv\", sep=' ', quoting = 3)\n",
    "\n",
    "print(student_data.shape)\n",
    "student_data = student_data.dropna()\n",
    "student_data.head()\n",
    "\n",
    "py.histogram(student_data())\n",
    "\n",
    "# sns.distplot(student_data,bins=20)"
   ]
  },
  {
   "cell_type": "code",
   "execution_count": null,
   "metadata": {
    "collapsed": true
   },
   "outputs": [],
   "source": []
  },
  {
   "cell_type": "code",
   "execution_count": null,
   "metadata": {
    "collapsed": true
   },
   "outputs": [],
   "source": []
  }
 ],
 "metadata": {
  "kernelspec": {
   "display_name": "Python 3",
   "language": "python",
   "name": "python3"
  },
  "language_info": {
   "codemirror_mode": {
    "name": "ipython",
    "version": 3
   },
   "file_extension": ".py",
   "mimetype": "text/x-python",
   "name": "python",
   "nbconvert_exporter": "python",
   "pygments_lexer": "ipython3",
   "version": "3.5.1"
  }
 },
 "nbformat": 4,
 "nbformat_minor": 0
}
