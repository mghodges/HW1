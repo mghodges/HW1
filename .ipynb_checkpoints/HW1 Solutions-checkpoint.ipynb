{
 "cells": [
  {
   "cell_type": "markdown",
   "metadata": {},
   "source": [
    "# Problem 1 \n",
    "N/A"
   ]
  },
  {
   "cell_type": "markdown",
   "metadata": {},
   "source": [
    "# Problem 2\n",
    "xi = time to load Canvas in milliseconds\n",
    "λ*e^-λ*x\n",
    "Derive the maximum likelihood estimate for λ from first principles\n",
    "\n",
    "argmax λe^(-λx)= argmax ln(λe^(-λx)) = d/dx ln(λe^(-λx) = d/dx -λxln(λ)\n",
    "-xln(λ)-x=0\n",
    "λ = e^(-1) = 1/e\n"
   ]
  },
  {
   "cell_type": "code",
   "execution_count": null,
   "metadata": {
    "collapsed": true
   },
   "outputs": [],
   "source": [
    "# Problem 3\n",
    "sns.kdeplot() # do stuff using this plotting method tbd"
   ]
  },
  {
   "cell_type": "code",
   "execution_count": null,
   "metadata": {
    "collapsed": false
   },
   "outputs": [],
   "source": [
    "import pandas as pd\n",
    "import numpy as np\n",
    "import matplotlib.pyplot as plt\n",
    "import seaborn as sns\n",
    "%matplotlib inline\n",
    "student_data = pd.read_csv(\"studentdata.csv\", sep=' ', quoting = 1)\n",
    "\n",
    "#print(student_data.shape)\n",
    "student_data = student_data.dropna()\n",
    "student_data.head()\n",
    "\n",
    "shoes = student_data['Shoes'].tolist()\n",
    "sns.distplot(shoes,bins=20,axlabel = \"Shoes\")\n"
   ]
  },
  {
   "cell_type": "code",
   "execution_count": null,
   "metadata": {
    "collapsed": false,
    "scrolled": true
   },
   "outputs": [],
   "source": [
    "# B)\n",
    "dvds = student_data['Dvds'].tolist()\n",
    "sns.distplot(dvds, axlabel = \"Dvds\")\n",
    "# It appears to follow a log normal distribution"
   ]
  },
  {
   "cell_type": "code",
   "execution_count": null,
   "metadata": {
    "collapsed": false
   },
   "outputs": [],
   "source": [
    "# C)\n",
    "student_data['Haircut'].describe()"
   ]
  },
  {
   "cell_type": "code",
   "execution_count": null,
   "metadata": {
    "collapsed": false
   },
   "outputs": [],
   "source": [
    "# C) continued\n",
    "student_data['Haircut'].describe([0.025, 0.975])"
   ]
  },
  {
   "cell_type": "code",
   "execution_count": null,
   "metadata": {
    "collapsed": false
   },
   "outputs": [],
   "source": [
    "# D)\n",
    "Drink  = student_data['Drink'].tolist()\n",
    "sns.countplot(x = 'Drink', hue = 'Gender', data = student_data)"
   ]
  },
  {
   "cell_type": "code",
   "execution_count": null,
   "metadata": {
    "collapsed": false,
    "scrolled": false
   },
   "outputs": [],
   "source": [
    "# E)\n",
    "sns.regplot(x = 'ToSleep', y='WakeUp', data = student_data)\n",
    "# There is a positive correlation between to sleep and wakeup showing that \n",
    "# the later you go to bed the later you wake up"
   ]
  },
  {
   "cell_type": "code",
   "execution_count": null,
   "metadata": {
    "collapsed": false
   },
   "outputs": [],
   "source": []
  },
  {
   "cell_type": "code",
   "execution_count": null,
   "metadata": {
    "collapsed": false
   },
   "outputs": [],
   "source": []
  },
  {
   "cell_type": "code",
   "execution_count": null,
   "metadata": {
    "collapsed": true
   },
   "outputs": [],
   "source": []
  },
  {
   "cell_type": "code",
   "execution_count": null,
   "metadata": {
    "collapsed": true
   },
   "outputs": [],
   "source": []
  }
 ],
 "metadata": {
  "kernelspec": {
   "display_name": "Python 3",
   "language": "python",
   "name": "python3"
  },
  "language_info": {
   "codemirror_mode": {
    "name": "ipython",
    "version": 3
   },
   "file_extension": ".py",
   "mimetype": "text/x-python",
   "name": "python",
   "nbconvert_exporter": "python",
   "pygments_lexer": "ipython3",
   "version": "3.5.1"
  }
 },
 "nbformat": 4,
 "nbformat_minor": 0
}
